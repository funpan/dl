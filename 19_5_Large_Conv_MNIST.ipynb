{
  "nbformat": 4,
  "nbformat_minor": 0,
  "metadata": {
    "colab": {
      "name": "19.5_Large_Conv_MNIST.ipynb",
      "version": "0.3.2",
      "provenance": [],
      "collapsed_sections": [],
      "include_colab_link": true
    },
    "kernelspec": {
      "name": "python3",
      "display_name": "Python 3"
    },
    "accelerator": "GPU"
  },
  "cells": [
    {
      "cell_type": "markdown",
      "metadata": {
        "id": "view-in-github",
        "colab_type": "text"
      },
      "source": [
        "<a href=\"https://colab.research.google.com/github/funpan/dl/blob/master/19_5_Large_Conv_MNIST.ipynb\" target=\"_parent\"><img src=\"https://colab.research.google.com/assets/colab-badge.svg\" alt=\"Open In Colab\"/></a>"
      ]
    },
    {
      "metadata": {
        "id": "PSxrScKZ03we",
        "colab_type": "text"
      },
      "cell_type": "markdown",
      "source": [
        "**19.5 Larger Convolutional Neural Network for MNIST**\n",
        "\n",
        "*   Convolutional layer with 30 feature maps of size 5x5\n",
        "*   Pooling layer taking the ax over 2x2 patches\n",
        "*   Convolutional layer with 15 feature maps of size 3x3\n",
        "*   pooling layer taking the max over 2x2 patches\n",
        "*   Dropout layer with a probability of 20%\n",
        "*   Flatten layer\n",
        "*   Fully connected layer with 128 neurons and rectifier activation\n",
        "*   Fully connected layer with 50 neurons and rectifier activation\n",
        "*   Output layer"
      ]
    },
    {
      "metadata": {
        "id": "xau7Ix-g04Dk",
        "colab_type": "code",
        "colab": {}
      },
      "cell_type": "code",
      "source": [
        "# Larger CNN for MNIST dataset\n",
        "\n",
        "import numpy\n",
        "from keras.datasets import mnist\n",
        "from keras.models import Sequential\n",
        "from keras.layers import Dense\n",
        "from keras.layers import Dropout\n",
        "from keras.layers import Flatten\n",
        "from keras.layers.convolutional import Convolution2D\n",
        "from keras.layers.convolutional import MaxPooling2D\n",
        "from keras.utils import np_utils\n",
        "from keras import backend as K\n",
        "K.set_image_dim_ordering('tf')"
      ],
      "execution_count": 0,
      "outputs": []
    },
    {
      "metadata": {
        "id": "U-n7nnvN04F8",
        "colab_type": "code",
        "colab": {}
      },
      "cell_type": "code",
      "source": [
        "# fix random seed for reproducibility\n",
        "seed = 7\n",
        "numpy.random.seed(seed)"
      ],
      "execution_count": 0,
      "outputs": []
    },
    {
      "metadata": {
        "id": "wgpkIAlz04Ie",
        "colab_type": "code",
        "outputId": "19465ba4-53ef-4abd-f2b6-1d54caeec0b3",
        "colab": {
          "base_uri": "https://localhost:8080/",
          "height": 51
        }
      },
      "cell_type": "code",
      "source": [
        "# load data\n",
        "(X_train, y_train), (X_test, y_test) = mnist.load_data()\n",
        "print(X_train.shape)\n",
        "\n",
        "# reshape to be [samples][width][height][channels] for tensorflow\n",
        "X_train = X_train.reshape(X_train.shape[0], 28, 28, 1).astype('float32')\n",
        "X_test = X_test.reshape(X_test.shape[0], 28, 28, 1).astype('float32')\n",
        "\n",
        "print(X_train.shape)"
      ],
      "execution_count": 42,
      "outputs": [
        {
          "output_type": "stream",
          "text": [
            "(60000, 28, 28)\n",
            "(60000, 28, 28, 1)\n"
          ],
          "name": "stdout"
        }
      ]
    },
    {
      "metadata": {
        "id": "6bknsR3i04LC",
        "colab_type": "code",
        "outputId": "93ba7248-35c8-484e-cee1-606c01ea146b",
        "colab": {
          "base_uri": "https://localhost:8080/",
          "height": 34
        }
      },
      "cell_type": "code",
      "source": [
        "# normalize inputs from 0-255 to 0-1\n",
        "X_train = X_train / 255\n",
        "X_test = X_test / 255\n",
        "\n",
        "# one hot encode output\n",
        "y_train = np_utils.to_categorical(y_train)\n",
        "y_test = np_utils.to_categorical(y_test)\n",
        "num_classes = y_test.shape[1]\n",
        "\n",
        "print(y_test.shape)"
      ],
      "execution_count": 43,
      "outputs": [
        {
          "output_type": "stream",
          "text": [
            "(10000, 10)\n"
          ],
          "name": "stdout"
        }
      ]
    },
    {
      "metadata": {
        "id": "WY8mOJjF04Na",
        "colab_type": "code",
        "colab": {}
      },
      "cell_type": "code",
      "source": [
        "# define a larger CNN model\n",
        "def larger_model():\n",
        "  # create model\n",
        "  model = Sequential()\n",
        "  model.add(Convolution2D(30, 5, 5, input_shape=(28, 28, 1), activation='relu'))\n",
        "  model.add(MaxPooling2D(pool_size=(2,2)))\n",
        "  model.add(Convolution2D(15, 5, 5, activation='relu'))\n",
        "  model.add(MaxPooling2D(pool_size=(2,2)))\n",
        "  model.add(Dropout(0.2))\n",
        "  model.add(Flatten())\n",
        "  model.add(Dense(128, activation='relu'))\n",
        "  model.add(Dense(50, activation='relu'))\n",
        "  model.add(Dense(num_classes, activation='softmax'))\n",
        "  \n",
        "  # Compile model\n",
        "  model.compile(loss='categorical_crossentropy', optimizer='adam', metrics=['accuracy'])\n",
        "  \n",
        "  return model\n"
      ],
      "execution_count": 0,
      "outputs": []
    },
    {
      "metadata": {
        "id": "KPxzyA4zYWGj",
        "colab_type": "code",
        "colab": {}
      },
      "cell_type": "code",
      "source": [
        "import sys\n",
        "import timeit"
      ],
      "execution_count": 0,
      "outputs": []
    },
    {
      "metadata": {
        "id": "FIO8rVI004P6",
        "colab_type": "code",
        "outputId": "cb251cb9-44b0-4036-b299-5be8a53f46c1",
        "colab": {
          "base_uri": "https://localhost:8080/",
          "height": 599
        }
      },
      "cell_type": "code",
      "source": [
        "# build a model\n",
        "model = larger_model()\n",
        "\n",
        "# Start Timer\n",
        "startTime = timeit.default_timer()\n",
        "\n",
        "# fit the model\n",
        "model.fit(X_train, y_train, validation_data=(X_test, y_test), nb_epoch=10, batch_size=200, verbose=2)\n",
        "\n",
        "# final evalution of the model\n",
        "scores = model.evaluate(X_test, y_test, verbose=0)\n",
        "print('CNN Error %.2f%%' % (100-scores[1]*100))\n",
        "\n",
        "# Stop timer\n",
        "stopTime = timeit.default_timer()\n",
        "totalRunningTime = stopTime - startTime\n",
        "\n",
        "# output running time in a nice format.\n",
        "mins, secs = divmod(totalRunningTime, 60)\n",
        "hours, mins = divmod(mins, 60)\n",
        "\n",
        "sys.stdout.write(\"Total running time with GPU: %d:%d:%d.\\n\" % (hours, mins, secs))\n"
      ],
      "execution_count": 51,
      "outputs": [
        {
          "output_type": "stream",
          "text": [
            "/usr/local/lib/python3.6/dist-packages/ipykernel_launcher.py:4: UserWarning: Update your `Conv2D` call to the Keras 2 API: `Conv2D(30, (5, 5), input_shape=(28, 28, 1..., activation=\"relu\")`\n",
            "  after removing the cwd from sys.path.\n",
            "/usr/local/lib/python3.6/dist-packages/ipykernel_launcher.py:6: UserWarning: Update your `Conv2D` call to the Keras 2 API: `Conv2D(15, (5, 5), activation=\"relu\")`\n",
            "  \n",
            "/usr/local/lib/python3.6/dist-packages/ipykernel_launcher.py:7: UserWarning: The `nb_epoch` argument in `fit` has been renamed `epochs`.\n",
            "  import sys\n"
          ],
          "name": "stderr"
        },
        {
          "output_type": "stream",
          "text": [
            "Train on 60000 samples, validate on 10000 samples\n",
            "Epoch 1/10\n",
            " - 4s - loss: 0.3881 - acc: 0.8792 - val_loss: 0.0824 - val_acc: 0.9732\n",
            "Epoch 2/10\n",
            " - 3s - loss: 0.0988 - acc: 0.9686 - val_loss: 0.0468 - val_acc: 0.9843\n",
            "Epoch 3/10\n",
            " - 3s - loss: 0.0691 - acc: 0.9784 - val_loss: 0.0391 - val_acc: 0.9873\n",
            "Epoch 4/10\n",
            " - 3s - loss: 0.0565 - acc: 0.9819 - val_loss: 0.0330 - val_acc: 0.9891\n",
            "Epoch 5/10\n",
            " - 3s - loss: 0.0494 - acc: 0.9846 - val_loss: 0.0339 - val_acc: 0.9888\n",
            "Epoch 6/10\n",
            " - 3s - loss: 0.0422 - acc: 0.9863 - val_loss: 0.0307 - val_acc: 0.9895\n",
            "Epoch 7/10\n",
            " - 3s - loss: 0.0376 - acc: 0.9880 - val_loss: 0.0271 - val_acc: 0.9908\n",
            "Epoch 8/10\n",
            " - 3s - loss: 0.0350 - acc: 0.9889 - val_loss: 0.0254 - val_acc: 0.9915\n",
            "Epoch 9/10\n",
            " - 3s - loss: 0.0333 - acc: 0.9888 - val_loss: 0.0258 - val_acc: 0.9918\n",
            "Epoch 10/10\n",
            " - 3s - loss: 0.0307 - acc: 0.9902 - val_loss: 0.0243 - val_acc: 0.9924\n",
            "CNN Error 0.76%\n",
            "Total running time with GPU: 0:0:31.\n"
          ],
          "name": "stdout"
        }
      ]
    },
    {
      "metadata": {
        "id": "4LFCnYanZCG3",
        "colab_type": "text"
      },
      "cell_type": "markdown",
      "source": [
        "Total running time with GPU:  0:0:31\n",
        "\n",
        "Total running time with CPU:  0:7:14\n",
        "\n",
        "Total running time with TPU:  0:7:31"
      ]
    },
    {
      "metadata": {
        "id": "zfJj-Suf04R8",
        "colab_type": "code",
        "colab": {}
      },
      "cell_type": "code",
      "source": [
        ""
      ],
      "execution_count": 0,
      "outputs": []
    },
    {
      "metadata": {
        "id": "85Jy-uoi04UW",
        "colab_type": "code",
        "colab": {}
      },
      "cell_type": "code",
      "source": [
        ""
      ],
      "execution_count": 0,
      "outputs": []
    },
    {
      "metadata": {
        "id": "cz9hccc504WX",
        "colab_type": "code",
        "colab": {}
      },
      "cell_type": "code",
      "source": [
        ""
      ],
      "execution_count": 0,
      "outputs": []
    }
  ]
}