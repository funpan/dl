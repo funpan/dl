{
  "nbformat": 4,
  "nbformat_minor": 0,
  "metadata": {
    "colab": {
      "name": "19b_Simple_Conv_MNIST.ipynb",
      "version": "0.3.2",
      "provenance": [],
      "collapsed_sections": [],
      "include_colab_link": true
    },
    "kernelspec": {
      "name": "python3",
      "display_name": "Python 3"
    },
    "accelerator": "GPU"
  },
  "cells": [
    {
      "cell_type": "markdown",
      "metadata": {
        "id": "view-in-github",
        "colab_type": "text"
      },
      "source": [
        "<a href=\"https://colab.research.google.com/github/funpan/dl/blob/master/19b_Simple_Conv_MNIST.ipynb\" target=\"_parent\"><img src=\"https://colab.research.google.com/assets/colab-badge.svg\" alt=\"Open In Colab\"/></a>"
      ]
    },
    {
      "metadata": {
        "id": "PSxrScKZ03we",
        "colab_type": "text"
      },
      "cell_type": "markdown",
      "source": [
        "**19.4 Simple Convolutional Neural Network for MNIST**\n",
        "\n",
        "*   Convolutional layers\n",
        "*   Pooling layers\n",
        "*   Dropout ayers\n"
      ]
    },
    {
      "metadata": {
        "id": "xau7Ix-g04Dk",
        "colab_type": "code",
        "outputId": "1b8c6367-34a1-47ec-98ef-411d449c3984",
        "colab": {
          "base_uri": "https://localhost:8080/",
          "height": 34
        }
      },
      "cell_type": "code",
      "source": [
        "import numpy\n",
        "from keras.datasets import mnist\n",
        "from keras.models import Sequential\n",
        "from keras.layers import Dense\n",
        "from keras.layers import Dropout\n",
        "from keras.layers import Flatten\n",
        "from keras.layers.convolutional import Convolution2D\n",
        "from keras.layers.convolutional import MaxPooling2D\n",
        "from keras.utils import np_utils"
      ],
      "execution_count": 0,
      "outputs": [
        {
          "output_type": "stream",
          "text": [
            "Using TensorFlow backend.\n"
          ],
          "name": "stderr"
        }
      ]
    },
    {
      "metadata": {
        "id": "U-n7nnvN04F8",
        "colab_type": "code",
        "colab": {}
      },
      "cell_type": "code",
      "source": [
        "# fix random seed for reproducibility\n",
        "seed = 7\n",
        "numpy.random.seed(seed)"
      ],
      "execution_count": 0,
      "outputs": []
    },
    {
      "metadata": {
        "id": "wgpkIAlz04Ie",
        "colab_type": "code",
        "outputId": "2a715dc3-6648-4b7b-97db-dc143cd8448c",
        "colab": {
          "base_uri": "https://localhost:8080/",
          "height": 85
        }
      },
      "cell_type": "code",
      "source": [
        "# load data\n",
        "(X_train, y_train), (X_test, y_test) = mnist.load_data()\n",
        "print(X_train.shape)\n",
        "\n",
        "# reshape to be [samples][width][height][channels] for tensorflow\n",
        "X_train = X_train.reshape(X_train.shape[0], 28, 28, 1).astype('float32')\n",
        "X_test = X_test.reshape(X_test.shape[0], 28, 28, 1).astype('float32')\n",
        "\n",
        "print(X_train.shape)"
      ],
      "execution_count": 0,
      "outputs": [
        {
          "output_type": "stream",
          "text": [
            "Downloading data from https://s3.amazonaws.com/img-datasets/mnist.npz\n",
            "11493376/11490434 [==============================] - 0s 0us/step\n",
            "(60000, 28, 28)\n",
            "(60000, 28, 28, 1)\n"
          ],
          "name": "stdout"
        }
      ]
    },
    {
      "metadata": {
        "id": "6bknsR3i04LC",
        "colab_type": "code",
        "outputId": "3655f866-d421-4fb8-80d6-40b9de81e98f",
        "colab": {
          "base_uri": "https://localhost:8080/",
          "height": 34
        }
      },
      "cell_type": "code",
      "source": [
        "# normalize inputs from 0-255 to 0-1\n",
        "X_train = X_train / 255\n",
        "X_test = X_test / 255\n",
        "\n",
        "# one hot encode output\n",
        "y_train = np_utils.to_categorical(y_train)\n",
        "y_test = np_utils.to_categorical(y_test)\n",
        "num_classes = y_test.shape[1]\n",
        "\n",
        "print(y_test.shape)"
      ],
      "execution_count": 0,
      "outputs": [
        {
          "output_type": "stream",
          "text": [
            "(10000, 10)\n"
          ],
          "name": "stdout"
        }
      ]
    },
    {
      "metadata": {
        "id": "WY8mOJjF04Na",
        "colab_type": "code",
        "colab": {}
      },
      "cell_type": "code",
      "source": [
        "# define a simple CNN model\n",
        "def baseline_model():\n",
        "  # create model\n",
        "  model = Sequential()\n",
        "  model.add(Convolution2D(32, 5, 5, input_shape=(28, 28, 1), activation='relu'))\n",
        "  model.add(MaxPooling2D(pool_size=(2,2)))\n",
        "  model.add(Dropout(0.2))\n",
        "  model.add(Flatten())\n",
        "  model.add(Dense(128, activation='relu'))\n",
        "  model.add(Dense(num_classes, activation='softmax'))\n",
        "  \n",
        "  # Compile model\n",
        "  model.compile(loss='categorical_crossentropy', optimizer='adam', metrics=['accuracy'])\n",
        "  \n",
        "  return model\n"
      ],
      "execution_count": 0,
      "outputs": []
    },
    {
      "metadata": {
        "id": "KPxzyA4zYWGj",
        "colab_type": "code",
        "colab": {}
      },
      "cell_type": "code",
      "source": [
        "import sys\n",
        "import timeit"
      ],
      "execution_count": 0,
      "outputs": []
    },
    {
      "metadata": {
        "id": "FIO8rVI004P6",
        "colab_type": "code",
        "outputId": "dc0a7a16-9f20-49e7-c21c-cecbf12b1214",
        "colab": {
          "base_uri": "https://localhost:8080/",
          "height": 712
        }
      },
      "cell_type": "code",
      "source": [
        "# Timer\n",
        "startTime = timeit.default_timer()\n",
        "\n",
        "# build the model\n",
        "model = baseline_model()\n",
        "\n",
        "# fit the model\n",
        "model.fit(X_train, y_train, validation_data=(X_test, y_test), nb_epoch=10, batch_size=200, verbose=2)\n",
        "\n",
        "# final evalution of the model\n",
        "scores = model.evaluate(X_test, y_test, verbose=0)\n",
        "print('CNN Error %.2f%%' % (100-scores[1]*100))\n",
        "\n",
        "# Stop timer\n",
        "stopTime = timeit.default_timer()\n",
        "totalRunningTime = stopTime - startTime\n",
        "\n",
        "# output running time in a nice format.\n",
        "mins, secs = divmod(totalRunningTime, 60)\n",
        "hours, mins = divmod(mins, 60)\n",
        "\n",
        "sys.stdout.write(\"Total running time with GPU: %d:%d:%d.\\n\" % (hours, mins, secs))"
      ],
      "execution_count": 0,
      "outputs": [
        {
          "output_type": "stream",
          "text": [
            "WARNING:tensorflow:From /usr/local/lib/python3.6/dist-packages/tensorflow/python/framework/op_def_library.py:263: colocate_with (from tensorflow.python.framework.ops) is deprecated and will be removed in a future version.\n",
            "Instructions for updating:\n",
            "Colocations handled automatically by placer.\n",
            "WARNING:tensorflow:From /usr/local/lib/python3.6/dist-packages/keras/backend/tensorflow_backend.py:3445: calling dropout (from tensorflow.python.ops.nn_ops) with keep_prob is deprecated and will be removed in a future version.\n",
            "Instructions for updating:\n",
            "Please use `rate` instead of `keep_prob`. Rate should be set to `rate = 1 - keep_prob`.\n",
            "WARNING:tensorflow:From /usr/local/lib/python3.6/dist-packages/tensorflow/python/ops/math_ops.py:3066: to_int32 (from tensorflow.python.ops.math_ops) is deprecated and will be removed in a future version.\n",
            "Instructions for updating:\n",
            "Use tf.cast instead.\n"
          ],
          "name": "stdout"
        },
        {
          "output_type": "stream",
          "text": [
            "/usr/local/lib/python3.6/dist-packages/ipykernel_launcher.py:4: UserWarning: Update your `Conv2D` call to the Keras 2 API: `Conv2D(32, (5, 5), input_shape=(28, 28, 1..., activation=\"relu\")`\n",
            "  after removing the cwd from sys.path.\n",
            "/usr/local/lib/python3.6/dist-packages/ipykernel_launcher.py:7: UserWarning: The `nb_epoch` argument in `fit` has been renamed `epochs`.\n",
            "  import sys\n"
          ],
          "name": "stderr"
        },
        {
          "output_type": "stream",
          "text": [
            "Train on 60000 samples, validate on 10000 samples\n",
            "Epoch 1/10\n",
            " - 45s - loss: 0.2265 - acc: 0.9350 - val_loss: 0.0746 - val_acc: 0.9773\n",
            "Epoch 2/10\n",
            " - 44s - loss: 0.0708 - acc: 0.9784 - val_loss: 0.0471 - val_acc: 0.9843\n",
            "Epoch 3/10\n",
            " - 44s - loss: 0.0503 - acc: 0.9847 - val_loss: 0.0424 - val_acc: 0.9863\n",
            "Epoch 4/10\n",
            " - 44s - loss: 0.0399 - acc: 0.9874 - val_loss: 0.0388 - val_acc: 0.9872\n",
            "Epoch 5/10\n",
            " - 44s - loss: 0.0320 - acc: 0.9903 - val_loss: 0.0355 - val_acc: 0.9886\n",
            "Epoch 6/10\n",
            " - 44s - loss: 0.0260 - acc: 0.9920 - val_loss: 0.0332 - val_acc: 0.9900\n",
            "Epoch 7/10\n",
            " - 44s - loss: 0.0221 - acc: 0.9929 - val_loss: 0.0354 - val_acc: 0.9894\n",
            "Epoch 8/10\n",
            " - 44s - loss: 0.0188 - acc: 0.9940 - val_loss: 0.0325 - val_acc: 0.9893\n",
            "Epoch 9/10\n",
            " - 44s - loss: 0.0162 - acc: 0.9949 - val_loss: 0.0312 - val_acc: 0.9890\n",
            "Epoch 10/10\n",
            " - 52s - loss: 0.0132 - acc: 0.9959 - val_loss: 0.0293 - val_acc: 0.9906\n",
            "CNN Error 0.94%\n",
            "Total running time with GPU: 0:7:31.\n"
          ],
          "name": "stdout"
        }
      ]
    },
    {
      "metadata": {
        "id": "4LFCnYanZCG3",
        "colab_type": "text"
      },
      "cell_type": "markdown",
      "source": [
        "Total running time with GPU:  0:0:31\n",
        "\n",
        "Total running time with CPU:  0:7:14\n",
        "\n",
        "Total running time with TPU:  0:7:31"
      ]
    },
    {
      "metadata": {
        "id": "zfJj-Suf04R8",
        "colab_type": "code",
        "colab": {}
      },
      "cell_type": "code",
      "source": [
        ""
      ],
      "execution_count": 0,
      "outputs": []
    },
    {
      "metadata": {
        "id": "85Jy-uoi04UW",
        "colab_type": "code",
        "colab": {}
      },
      "cell_type": "code",
      "source": [
        ""
      ],
      "execution_count": 0,
      "outputs": []
    },
    {
      "metadata": {
        "id": "cz9hccc504WX",
        "colab_type": "code",
        "colab": {}
      },
      "cell_type": "code",
      "source": [
        ""
      ],
      "execution_count": 0,
      "outputs": []
    }
  ]
}